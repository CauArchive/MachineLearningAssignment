{
  "cells": [
    {
      "cell_type": "markdown",
      "metadata": {
        "id": "6FtpZeQDEOqD"
      },
      "source": [
        "# Isotropic smoothing of image via Heat equation"
      ]
    },
    {
      "cell_type": "markdown",
      "metadata": {
        "id": "t_n1DIezEOqE"
      },
      "source": [
        "## import library"
      ]
    },
    {
      "cell_type": "code",
      "execution_count": 215,
      "metadata": {
        "id": "edOLgwBDEOqF"
      },
      "outputs": [],
      "source": [
        "import numpy as np\n",
        "import matplotlib.image as img\n",
        "import matplotlib.pyplot as plt\n",
        "from matplotlib import cm\n",
        "import matplotlib.colors as colors\n",
        "from skimage import color\n",
        "from skimage import io"
      ]
    },
    {
      "cell_type": "markdown",
      "metadata": {
        "id": "2fBIp5eYEOqF"
      },
      "source": [
        "## load input image\n",
        "- filename for the input image is 'barbara_color.jpeg'"
      ]
    },
    {
      "cell_type": "code",
      "execution_count": 216,
      "metadata": {
        "id": "jjgGDB0KEOqF"
      },
      "outputs": [],
      "source": [
        " I0 = io.imread('barbara_color.jpeg')"
      ]
    },
    {
      "cell_type": "markdown",
      "metadata": {
        "id": "bWItq3aOEOqF"
      },
      "source": [
        "## check the size of the input image"
      ]
    },
    {
      "cell_type": "code",
      "execution_count": 217,
      "metadata": {
        "colab": {
          "base_uri": "https://localhost:8080/"
        },
        "id": "X5DhPphOEOqG",
        "outputId": "e3f9fc90-6114-434c-ec73-8cb805e88d31"
      },
      "outputs": [
        {
          "output_type": "stream",
          "name": "stdout",
          "text": [
            "number of rows of I0 =  512\n",
            "number of columns of I0 =  512\n",
            "number of channels of I0 =  3\n"
          ]
        }
      ],
      "source": [
        "# ++++++++++++++++++++++++++++++++++++++++++++++++++\n",
        "# complete the blanks\n",
        "#\n",
        "num_row     = I0.shape[0]\n",
        "num_column  = I0.shape[1]\n",
        "num_channel = I0.shape[2]\n",
        "#\n",
        "# ++++++++++++++++++++++++++++++++++++++++++++++++++\n",
        "\n",
        "print('number of rows of I0 = ', num_row)\n",
        "print('number of columns of I0 = ', num_column)\n",
        "print('number of channels of I0 = ', num_channel)"
      ]
    },
    {
      "cell_type": "markdown",
      "metadata": {
        "id": "DgZ2351HEOqG"
      },
      "source": [
        "## convert the color image into a grey image"
      ]
    },
    {
      "cell_type": "code",
      "execution_count": 218,
      "metadata": {
        "colab": {
          "base_uri": "https://localhost:8080/"
        },
        "id": "dWqdNjZoEOqG",
        "outputId": "9a98e0e7-8d9a-49e4-a2b0-3fad04eebff3"
      },
      "outputs": [
        {
          "output_type": "stream",
          "name": "stdout",
          "text": [
            "number of rows of I =  512\n",
            "number of columns of I =  512\n"
          ]
        }
      ],
      "source": [
        "# ++++++++++++++++++++++++++++++++++++++++++++++++++\n",
        "# complete the blanks\n",
        "#\n",
        "I = color.rgb2gray(I0)\n",
        "\n",
        "num_row     = I0.shape[0]\n",
        "num_column  = I0.shape[1]\n",
        "#\n",
        "# ++++++++++++++++++++++++++++++++++++++++++++++++++\n",
        "\n",
        "print('number of rows of I = ', num_row)\n",
        "print('number of columns of I = ', num_column)"
      ]
    },
    {
      "cell_type": "markdown",
      "metadata": {
        "id": "a78Ci1F0EOqG"
      },
      "source": [
        "## normalize the converted image\n",
        "- normalize the converted grey scale image so that its maximum value is 1 and its minimum value is 0"
      ]
    },
    {
      "cell_type": "code",
      "execution_count": 219,
      "metadata": {
        "colab": {
          "base_uri": "https://localhost:8080/"
        },
        "id": "8BfHrwMhEOqG",
        "outputId": "e57ae2d3-ec3f-46e4-816a-dfa484fbe4c8"
      },
      "outputs": [
        {
          "output_type": "stream",
          "name": "stdout",
          "text": [
            "maximum value of I =  1.0\n",
            "minimum value of I =  0.0\n"
          ]
        }
      ],
      "source": [
        "# ++++++++++++++++++++++++++++++++++++++++++++++++++\n",
        "# complete the blanks\n",
        "#\n",
        "I = (I - np.min(I))/(np.max(I) - np.min(I))\n",
        "#\n",
        "# ++++++++++++++++++++++++++++++++++++++++++++++++++\n",
        "\n",
        "print('maximum value of I = ', np.max(I))\n",
        "print('minimum value of I = ', np.min(I))"
      ]
    },
    {
      "cell_type": "markdown",
      "metadata": {
        "id": "u8S0WrFwEOqG"
      },
      "source": [
        "## define a function to compute the derivative of input matrix in x(row)-direction"
      ]
    },
    {
      "cell_type": "markdown",
      "metadata": {
        "id": "AKbRb_ttEOqH"
      },
      "source": [
        "- forward difference : $ I[x+1, y] - I[x, y] $ "
      ]
    },
    {
      "cell_type": "code",
      "execution_count": 220,
      "metadata": {
        "id": "QzLZNS84EOqH"
      },
      "outputs": [],
      "source": [
        "def compute_derivative_x_forward(I):\n",
        "    \n",
        "    D = np.zeros(I.shape)\n",
        "    \n",
        "    # ++++++++++++++++++++++++++++++++++++++++++++++++++\n",
        "    # complete the blanks\n",
        "    #\n",
        "    \n",
        "    D = np.roll(I, -1, axis=0)\n",
        "    D[-1,:] = I[-1,:]\n",
        "    D = D - I\n",
        "    \n",
        "    #\n",
        "    # ++++++++++++++++++++++++++++++++++++++++++++++++++\n",
        "    \n",
        "    return D"
      ]
    },
    {
      "cell_type": "markdown",
      "metadata": {
        "id": "217zQSN5EOqH"
      },
      "source": [
        "- backward difference : $ I[x, y] - I[x-1, y] $ "
      ]
    },
    {
      "cell_type": "code",
      "execution_count": 221,
      "metadata": {
        "id": "ami3iFD_EOqH"
      },
      "outputs": [],
      "source": [
        "def compute_derivative_x_backward(I):\n",
        "    \n",
        "    D = np.zeros(I.shape)\n",
        "    \n",
        "    # ++++++++++++++++++++++++++++++++++++++++++++++++++\n",
        "    # complete the blanks\n",
        "    #\n",
        "    \n",
        "    D = np.roll(I, 1, axis=0)\n",
        "    D[0,:] = I[0,:]\n",
        "    D = I - D\n",
        "    \n",
        "    #\n",
        "    # ++++++++++++++++++++++++++++++++++++++++++++++++++\n",
        "    \n",
        "    return D"
      ]
    },
    {
      "cell_type": "markdown",
      "metadata": {
        "id": "8ZPSg0dzEOqH"
      },
      "source": [
        "## define a function to compute the derivative of input matrix in y(column)-direction"
      ]
    },
    {
      "cell_type": "markdown",
      "metadata": {
        "id": "MlCVE4PkEOqH"
      },
      "source": [
        "- forward difference : $ I[x, y+1] - I[x, y] $ "
      ]
    },
    {
      "cell_type": "code",
      "execution_count": 222,
      "metadata": {
        "id": "FLH_iUO7EOqH"
      },
      "outputs": [],
      "source": [
        "def compute_derivative_y_forward(I):\n",
        "    \n",
        "    D = np.zeros(I.shape)\n",
        "    \n",
        "    # ++++++++++++++++++++++++++++++++++++++++++++++++++\n",
        "    # complete the blanks\n",
        "    #\n",
        "    \n",
        "    D = np.roll(I, -1, axis=1)\n",
        "    D[:, -1] = I[:, -1]\n",
        "    D = D - I\n",
        "    \n",
        "    #\n",
        "    # ++++++++++++++++++++++++++++++++++++++++++++++++++\n",
        "    \n",
        "    return D"
      ]
    },
    {
      "cell_type": "markdown",
      "metadata": {
        "id": "aabyoy0YEOqI"
      },
      "source": [
        "- backward difference : $ I[x, y] - I[x, y-1] $ "
      ]
    },
    {
      "cell_type": "code",
      "execution_count": 223,
      "metadata": {
        "id": "a-eq5FZLEOqI"
      },
      "outputs": [],
      "source": [
        "def compute_derivative_y_backward(I):\n",
        "    \n",
        "    D = np.zeros(I.shape)\n",
        "    \n",
        "    # ++++++++++++++++++++++++++++++++++++++++++++++++++\n",
        "    # complete the blanks\n",
        "    #\n",
        "    \n",
        "    D = np.roll(I, 1, axis=1)\n",
        "    D[:, 0] = I[:, 0]\n",
        "    D = I - D\n",
        "    \n",
        "    #\n",
        "    # ++++++++++++++++++++++++++++++++++++++++++++++++++\n",
        "    \n",
        "    return D"
      ]
    },
    {
      "cell_type": "markdown",
      "metadata": {
        "id": "mzwfZnA6EOqI"
      },
      "source": [
        "## define a function to compute the laplacian of input matrix\n",
        "- $\\Delta I = \\nabla^2 I = \\frac{\\partial^2 I}{\\partial x^2} + \\frac{\\partial^2 I}{\\partial y^2}$\n",
        "- $\\Delta I = I[x+1, y] + I[x-1, y] + I[x, y+1] + I[x, y-1] - 4 * I[x, y]$\n",
        "- $\\Delta I$ = derivative_x_forward - derivative_x_backward + derivative_y_forward - derivative_y_backward"
      ]
    },
    {
      "cell_type": "code",
      "execution_count": 224,
      "metadata": {
        "id": "9LZlec-nEOqI"
      },
      "outputs": [],
      "source": [
        "def compute_laplace(I):\n",
        "    \n",
        "    laplace = np.zeros(I.shape)\n",
        "    \n",
        "    # ++++++++++++++++++++++++++++++++++++++++++++++++++\n",
        "    # complete the blanks\n",
        "    #\n",
        "    \n",
        "    laplace = compute_derivative_x_forward(I) - compute_derivative_x_backward(I) + compute_derivative_y_forward(I) - compute_derivative_y_backward(I)\n",
        "    \n",
        "    #\n",
        "    # ++++++++++++++++++++++++++++++++++++++++++++++++++\n",
        "    \n",
        "    return laplace"
      ]
    },
    {
      "cell_type": "markdown",
      "metadata": {
        "id": "7oyE4tGaEOqI"
      },
      "source": [
        "## define a function to compute the heat equation of data $I$ with a time step\n",
        "- $I = I + \\delta t * \\Delta I$"
      ]
    },
    {
      "cell_type": "code",
      "execution_count": 225,
      "metadata": {
        "id": "YPRjVK8OEOqI"
      },
      "outputs": [],
      "source": [
        "def heat_equation(I, time_step):\n",
        "    \n",
        "    I_update = np.zeros(I.shape)\n",
        "    \n",
        "    # ++++++++++++++++++++++++++++++++++++++++++++++++++\n",
        "    # complete the blanks\n",
        "    #\n",
        "    \n",
        "    I_update = I + time_step * compute_laplace(I)\n",
        "    \n",
        "    #\n",
        "    # ++++++++++++++++++++++++++++++++++++++++++++++++++\n",
        "\n",
        "    return I_update"
      ]
    },
    {
      "cell_type": "markdown",
      "metadata": {
        "id": "61_1PQTIEOqJ"
      },
      "source": [
        "## run the heat equation over iterations"
      ]
    },
    {
      "cell_type": "code",
      "execution_count": 226,
      "metadata": {
        "id": "6RrzSn40EOqJ"
      },
      "outputs": [],
      "source": [
        "def run_heat_equation(I, time_step, number_iteration):\n",
        "\n",
        "    I_update = np.zeros(I.shape)\n",
        "\n",
        "    for t in range(number_iteration):\n",
        "        # ++++++++++++++++++++++++++++++++++++++++++++++++++\n",
        "        # complete the blanks\n",
        "        #\n",
        "    \n",
        "        I_update = heat_equation(I, time_step)\n",
        "        I = I_update\n",
        "    \n",
        "        #\n",
        "        # ++++++++++++++++++++++++++++++++++++++++++++++++++\n",
        "\n",
        "    return I_update"
      ]
    },
    {
      "cell_type": "markdown",
      "metadata": {
        "id": "8zuCo8amEOqJ"
      },
      "source": [
        "___"
      ]
    },
    {
      "cell_type": "markdown",
      "metadata": {
        "id": "pr0p_MI5EOqJ"
      },
      "source": [
        "___"
      ]
    },
    {
      "cell_type": "markdown",
      "metadata": {
        "id": "kci-ojKVEOqJ"
      },
      "source": [
        "## functions for presenting the results"
      ]
    },
    {
      "cell_type": "markdown",
      "metadata": {
        "id": "oIehE2a4EOqJ"
      },
      "source": [
        "___"
      ]
    },
    {
      "cell_type": "markdown",
      "metadata": {
        "id": "j8dEqKPCEOqJ"
      },
      "source": [
        "___"
      ]
    },
    {
      "cell_type": "code",
      "execution_count": 227,
      "metadata": {
        "id": "YPjQRRDGEOqJ"
      },
      "outputs": [],
      "source": [
        "def function_result_01():\n",
        "    \n",
        "    plt.figure(figsize=(8,6))\n",
        "    plt.imshow(I0)\n",
        "    plt.show()"
      ]
    },
    {
      "cell_type": "code",
      "execution_count": 228,
      "metadata": {
        "id": "ankn5rECEOqJ"
      },
      "outputs": [],
      "source": [
        "def function_result_02():\n",
        "    \n",
        "    plt.figure(figsize=(8,6))\n",
        "    plt.imshow(I, cmap='gray', vmin=0, vmax=1, interpolation='none')\n",
        "    plt.show()"
      ]
    },
    {
      "cell_type": "code",
      "execution_count": 229,
      "metadata": {
        "id": "TJQop7lmEOqJ"
      },
      "outputs": [],
      "source": [
        "def function_result_03():\n",
        "\n",
        "    L = compute_laplace(I)\n",
        "    \n",
        "    plt.figure(figsize=(8,6))\n",
        "    plt.imshow(L, cmap='gray')\n",
        "    plt.show()"
      ]
    },
    {
      "cell_type": "code",
      "execution_count": 230,
      "metadata": {
        "id": "BubwUb4LEOqJ"
      },
      "outputs": [],
      "source": [
        "def function_result_04():\n",
        "\n",
        "    time_step   = 0.25\n",
        "    I_update    = heat_equation(I, time_step)\n",
        "    \n",
        "    plt.figure(figsize=(8,6))\n",
        "    plt.imshow(I_update, vmin=0, vmax=1, cmap='gray')\n",
        "    plt.show()"
      ]
    },
    {
      "cell_type": "code",
      "execution_count": 231,
      "metadata": {
        "id": "TljQprRkEOqK"
      },
      "outputs": [],
      "source": [
        "def function_result_05():\n",
        "\n",
        "    time_step           = 0.25\n",
        "    number_iteration    = 128\n",
        "\n",
        "    I_update = run_heat_equation(I, time_step, number_iteration)\n",
        "    \n",
        "    plt.figure(figsize=(8,6))\n",
        "    plt.imshow(I_update, vmin=0, vmax=1, cmap='gray')\n",
        "    plt.show()"
      ]
    },
    {
      "cell_type": "code",
      "execution_count": 232,
      "metadata": {
        "id": "qT9KMJk6EOqK"
      },
      "outputs": [],
      "source": [
        "def function_result_06():\n",
        "\n",
        "    time_step           = 0.25\n",
        "    number_iteration    = 512\n",
        "\n",
        "    I_update = run_heat_equation(I, time_step, number_iteration)\n",
        "    \n",
        "    plt.figure(figsize=(8,6))\n",
        "    plt.imshow(I_update, vmin=0, vmax=1, cmap='gray')\n",
        "    plt.show()"
      ]
    },
    {
      "cell_type": "code",
      "execution_count": 233,
      "metadata": {
        "id": "djDhyvqTEOqK"
      },
      "outputs": [],
      "source": [
        "def function_result_07():\n",
        "\n",
        "    L = compute_laplace(I)\n",
        "\n",
        "    value1 = L[0, 0]    \n",
        "    value2 = L[-1, -1]    \n",
        "    value3 = L[100, 100]    \n",
        "    value4 = L[200, 200]\n",
        "\n",
        "    print('value1 = ', value1)\n",
        "    print('value2 = ', value2)\n",
        "    print('value3 = ', value3)\n",
        "    print('value4 = ', value4)"
      ]
    },
    {
      "cell_type": "code",
      "execution_count": 234,
      "metadata": {
        "id": "787P3uCoEOqK"
      },
      "outputs": [],
      "source": [
        "def function_result_08():\n",
        "\n",
        "    time_step   = 0.25\n",
        "    I_update    = heat_equation(I, time_step)\n",
        "\n",
        "    value1 = I_update[0, 0]    \n",
        "    value2 = I_update[-1, -1]    \n",
        "    value3 = I_update[100, 100]    \n",
        "    value4 = I_update[200, 200]\n",
        "\n",
        "    print('value1 = ', value1)\n",
        "    print('value2 = ', value2)\n",
        "    print('value3 = ', value3)\n",
        "    print('value4 = ', value4)"
      ]
    },
    {
      "cell_type": "code",
      "execution_count": 235,
      "metadata": {
        "id": "JbTv1w7LEOqK"
      },
      "outputs": [],
      "source": [
        "def function_result_09():\n",
        "\n",
        "    time_step           = 0.25\n",
        "    number_iteration    = 128\n",
        "\n",
        "    I_update = run_heat_equation(I, time_step, number_iteration)\n",
        "\n",
        "    value1 = I_update[0, 0]    \n",
        "    value2 = I_update[-1, -1]    \n",
        "    value3 = I_update[100, 100]    \n",
        "    value4 = I_update[200, 200]\n",
        "\n",
        "    print('value1 = ', value1)\n",
        "    print('value2 = ', value2)\n",
        "    print('value3 = ', value3)\n",
        "    print('value4 = ', value4)"
      ]
    },
    {
      "cell_type": "code",
      "execution_count": 236,
      "metadata": {
        "id": "TRGst35DEOqK"
      },
      "outputs": [],
      "source": [
        "def function_result_10():\n",
        "\n",
        "    time_step           = 0.25\n",
        "    number_iteration    = 512\n",
        "\n",
        "    I_update = run_heat_equation(I, time_step, number_iteration)\n",
        "\n",
        "    value1 = I_update[0, 0]    \n",
        "    value2 = I_update[-1, -1]    \n",
        "    value3 = I_update[100, 100]    \n",
        "    value4 = I_update[200, 200]\n",
        "\n",
        "    print('value1 = ', value1)\n",
        "    print('value2 = ', value2)\n",
        "    print('value3 = ', value3)\n",
        "    print('value4 = ', value4)"
      ]
    },
    {
      "cell_type": "markdown",
      "metadata": {
        "id": "z7PYQnHnEOqK"
      },
      "source": [
        "___"
      ]
    },
    {
      "cell_type": "markdown",
      "metadata": {
        "id": "ZRMayJiVEOqK"
      },
      "source": [
        "___"
      ]
    },
    {
      "cell_type": "markdown",
      "metadata": {
        "id": "-VgukZ87EOqK"
      },
      "source": [
        "# results"
      ]
    },
    {
      "cell_type": "markdown",
      "metadata": {
        "id": "KRmn7bMeEOqK"
      },
      "source": [
        "___"
      ]
    },
    {
      "cell_type": "markdown",
      "metadata": {
        "id": "ksu-dyG3EOqK"
      },
      "source": [
        "___"
      ]
    },
    {
      "cell_type": "code",
      "execution_count": null,
      "metadata": {
        "id": "kdxl7G47EOqK"
      },
      "outputs": [],
      "source": [
        "number_result = 10\n",
        "\n",
        "for i in range(number_result):\n",
        "    title = '## [RESULT {:02d}]'.format(i+1)\n",
        "    name_function = 'function_result_{:02d}()'.format(i+1)\n",
        "\n",
        "    print('**************************************************')\n",
        "    print(title)\n",
        "    print('**************************************************')\n",
        "    eval(name_function)"
      ]
    },
    {
      "cell_type": "code",
      "execution_count": 237,
      "metadata": {
        "id": "Jm9kKleREOqK"
      },
      "outputs": [],
      "source": [
        ""
      ]
    },
    {
      "cell_type": "code",
      "execution_count": 237,
      "metadata": {
        "id": "fFRvkvdxEOqL"
      },
      "outputs": [],
      "source": [
        ""
      ]
    }
  ],
  "metadata": {
    "kernelspec": {
      "display_name": "Python 3",
      "language": "python",
      "name": "python3"
    },
    "language_info": {
      "codemirror_mode": {
        "name": "ipython",
        "version": 3
      },
      "file_extension": ".py",
      "mimetype": "text/x-python",
      "name": "python",
      "nbconvert_exporter": "python",
      "pygments_lexer": "ipython3",
      "version": "3.8.8"
    },
    "colab": {
      "name": "assignment_04.ipynb",
      "provenance": []
    }
  },
  "nbformat": 4,
  "nbformat_minor": 0
}