{
 "cells": [
  {
   "cell_type": "code",
   "execution_count": 155,
   "metadata": {},
   "outputs": [],
   "source": [
    "import numpy as np"
   ]
  },
  {
   "cell_type": "code",
   "execution_count": 156,
   "metadata": {},
   "outputs": [],
   "source": [
    "def normalize(feature):\n",
    "  \n",
    "    # ++++++++++++++++++++++++++++++++++++++++++++++++++\n",
    "    # complete the blanks\n",
    "    #\n",
    "\n",
    "    feature_normalize = np.array([(feature[:,0] - np.mean(feature[:,0])) / np.std(feature[:,0]), (feature[:,1] - np.mean(feature[:,1])) / np.std(feature[:,1])]).T\n",
    "\n",
    "    #\n",
    "    # ++++++++++++++++++++++++++++++++++++++++++++++++++\n",
    "    \n",
    "    return feature_normalize"
   ]
  },
  {
   "cell_type": "code",
   "execution_count": 157,
   "metadata": {},
   "outputs": [],
   "source": [
    "def compute_covariance(feature):\n",
    "  \n",
    "    # ++++++++++++++++++++++++++++++++++++++++++++++++++\n",
    "    # complete the blanks\n",
    "    #\n",
    "    # feature is already normalized\n",
    "\n",
    "    Sigma = np.zeros((2, 2))\n",
    "\n",
    "    for i in range(feature.shape[0]):\n",
    "        Sigma += np.outer(feature[i], feature[i])\n",
    "\n",
    "    Sigma = Sigma / feature.shape[0]\n",
    "\n",
    "\n",
    "    #\n",
    "    # ++++++++++++++++++++++++++++++++++++++++++++++++++\n",
    "\n",
    "    return Sigma"
   ]
  },
  {
   "cell_type": "code",
   "execution_count": 158,
   "metadata": {},
   "outputs": [],
   "source": [
    "def compute_principal_component(feature):\n",
    "  \n",
    "    # ++++++++++++++++++++++++++++++++++++++++++++++++++\n",
    "    # complete the blanks\n",
    "    #\n",
    "\n",
    "    Sigma = compute_covariance(feature)\n",
    "\n",
    "    eigen_value, eigen_vector = np.linalg.eig(Sigma)\n",
    "\n",
    "    sort_idx = np.argsort(eigen_value)[::-1]\n",
    "    principal_component_1, principal_component_2 = eigen_value[sort_idx] * eigen_vector[:, sort_idx]\n",
    "\n",
    "\n",
    "\n",
    "    #\n",
    "    # ++++++++++++++++++++++++++++++++++++++++++++++++++\n",
    "     \n",
    "    return (principal_component_1, principal_component_2)"
   ]
  },
  {
   "cell_type": "code",
   "execution_count": 159,
   "metadata": {},
   "outputs": [
    {
     "name": "stdout",
     "output_type": "stream",
     "text": [
      "[[ 0.70710678 -0.70710678]\n",
      " [ 0.70710678  0.70710678]]\n",
      "[[ 0.70710678 -0.70710678]\n",
      " [ 0.70710678  0.70710678]]\n",
      "(array([1.41421356e+00, 1.57009246e-16]), array([ 1.41421356e+00, -1.57009246e-16]))\n"
     ]
    }
   ],
   "source": [
    "A = np.array([[1, 2], [4, 5], [7, 8]])\n",
    "A = normalize(A)\n",
    "\n",
    "print(compute_principal_component(A))\n",
    "\n",
    "\n",
    "\n",
    "# eigen_value, eigen_vector = np.linalg.eig(compute_covariance(A))\n",
    "\n",
    "# result = np.argsort(eigen_value)\n",
    "\n",
    "# print(eigen_value)\n",
    "# print(eigen_vector)\n",
    "\n",
    "# print(eigen_value[result])\n",
    "# print(eigen_vector[result])\n",
    "\n",
    "# feature_1 = eigen_vector[result] * eigen_value[result]\n",
    "# print(eigen_value[result])\n",
    "# print(feature_1)\n",
    "\n",
    "\n",
    "# print(eigen_value)\n",
    "# print(\"======\")\n",
    "# print(eigen_value.argsort())\n",
    "# print(\"======\")\n",
    "# print(eigen_value[eigen_value.argsort()])\n",
    "# # print(eigen_vector)\n",
    "\n",
    "\n",
    "    "
   ]
  }
 ],
 "metadata": {
  "interpreter": {
   "hash": "4bd624a0593993fe43ac4046b27b898fb2ef75c21c08f81e89e64ea0f51df676"
  },
  "kernelspec": {
   "display_name": "Python 3.9.10 ('tensorflow')",
   "language": "python",
   "name": "python3"
  },
  "language_info": {
   "codemirror_mode": {
    "name": "ipython",
    "version": 3
   },
   "file_extension": ".py",
   "mimetype": "text/x-python",
   "name": "python",
   "nbconvert_exporter": "python",
   "pygments_lexer": "ipython3",
   "version": "3.9.10"
  },
  "orig_nbformat": 4
 },
 "nbformat": 4,
 "nbformat_minor": 2
}
