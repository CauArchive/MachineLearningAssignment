{
 "cells": [
  {
   "cell_type": "code",
   "execution_count": 16,
   "metadata": {},
   "outputs": [
    {
     "name": "stdout",
     "output_type": "stream",
     "text": [
      "[[2 3 4]\n",
      " [4 5 6]]\n",
      "[0 0]\n"
     ]
    }
   ],
   "source": [
    "import numpy as np\n",
    "\n",
    "def expr():\n",
    "  feature = np.array([1,2,3,4,5,6])\n",
    "  label_feature = np.array([0,0,0,0,0,0])\n",
    "  label = 1\n",
    "\n",
    "  same_label = (label_feature == label)\n",
    "  parsed_feature = feature[same_label]\n",
    "  if(np.size(parsed_feature, 0) == 0):\n",
    "    return None\n",
    "\n",
    "  centroid = np.mean(parsed_feature, axis=0)\n",
    "  return centroid\n",
    "\n",
    "A = np.array([[2,3,4],[4,5,6]])\n",
    "print(A)\n",
    "print(np.argmin(A, axis=1))\n",
    "B = np.array([[1,2,3]])\n",
    "# print((A-B)**2)\n",
    "# print(np.mean((A-B)**2, axis=1))"
   ]
  }
 ],
 "metadata": {
  "interpreter": {
   "hash": "4bd624a0593993fe43ac4046b27b898fb2ef75c21c08f81e89e64ea0f51df676"
  },
  "kernelspec": {
   "display_name": "Python 3.9.10 ('tensorflow')",
   "language": "python",
   "name": "python3"
  },
  "language_info": {
   "codemirror_mode": {
    "name": "ipython",
    "version": 3
   },
   "file_extension": ".py",
   "mimetype": "text/x-python",
   "name": "python",
   "nbconvert_exporter": "python",
   "pygments_lexer": "ipython3",
   "version": "3.9.10"
  },
  "orig_nbformat": 4
 },
 "nbformat": 4,
 "nbformat_minor": 2
}
