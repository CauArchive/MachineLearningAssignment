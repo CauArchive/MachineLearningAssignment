{
 "cells": [
  {
   "cell_type": "code",
   "execution_count": 43,
   "metadata": {},
   "outputs": [],
   "source": [
    "def normalize(feature):\n",
    "  \n",
    "    # ++++++++++++++++++++++++++++++++++++++++++++++++++\n",
    "    # complete the blanks\n",
    "    #\n",
    "\n",
    "    feature_normalize = np.array([(feature[:,0] - np.mean(feature[:,0])) / np.std(feature[:,0]), (feature[:,1] - np.mean(feature[:,1])) / np.std(feature[:,1])]).T\n",
    "\n",
    "    #\n",
    "    # ++++++++++++++++++++++++++++++++++++++++++++++++++\n",
    "    \n",
    "    return feature_normalize"
   ]
  },
  {
   "cell_type": "code",
   "execution_count": 42,
   "metadata": {},
   "outputs": [],
   "source": [
    "def compute_covariance(feature):\n",
    "  \n",
    "    # ++++++++++++++++++++++++++++++++++++++++++++++++++\n",
    "    # complete the blanks\n",
    "    #\n",
    "\n",
    "    Sigma = np.sum(np.matmul(feature.reshape((-1, 2, 1)), feature.reshape(-1, 1, 2)), axis=0) / len(feature)\n",
    "\n",
    "    #\n",
    "    # ++++++++++++++++++++++++++++++++++++++++++++++++++\n",
    "\n",
    "    return Sigma"
   ]
  },
  {
   "cell_type": "code",
   "execution_count": 67,
   "metadata": {},
   "outputs": [
    {
     "name": "stdout",
     "output_type": "stream",
     "text": [
      "[[1. 1.]\n",
      " [1. 1.]]\n",
      "[ 2.00000000e+00 -2.22044605e-16]\n"
     ]
    }
   ],
   "source": [
    "import numpy as np\n",
    "\n",
    "A = np.array([[1, 2], [4, 5], [7, 8]])\n",
    "\n",
    "\n",
    "# mean_A = np.mean(A, axis=0)\n",
    "# std_A = np.std(A, axis=0)\n",
    "# print(std_A)\n",
    "\n",
    "# middle_A = A - mean_A\n",
    "# middle_values = np.sqrt(np.mean(middle_A[:, 0] * middle_A[:, 1]))\n",
    "# print(middle_values)\n",
    "\n",
    "# cov_matrix = np.ones((2, 2))\n",
    "# cov_matrix[0, 0] = std_A[0]\n",
    "# cov_matrix[1, 1] = std_A[1]\n",
    "# cov_matrix[0, 1] = middle_values\n",
    "# cov_matrix[1, 0] = middle_values\n",
    "\n",
    "# print(cov_matrix)\n",
    "\n",
    "# print(\"==============\")\n",
    "\n",
    "\n",
    "normalized_A = (A - np.mean(A, axis=0)) / np.std(A, axis=0)\n",
    "\n",
    "result = np.zeros((2, 2))\n",
    "\n",
    "for i in range(normalized_A.shape[0]):\n",
    "    result += np.outer(normalized_A[i], normalized_A[i])\n",
    "\n",
    "Sigma = result / normalized_A.shape[0]\n",
    "print(Sigma)\n",
    "\n",
    "\n",
    "eigen_value, eigen_vector = np.linalg.eig(Sigma)\n",
    "\n",
    "\n",
    "# print(eigen_value)\n",
    "# print(\"======\")\n",
    "# print(eigen_value.argsort())\n",
    "# print(\"======\")\n",
    "# print(eigen_value[eigen_value.argsort()])\n",
    "# # print(eigen_vector)\n",
    "\n",
    "\n",
    "    "
   ]
  }
 ],
 "metadata": {
  "interpreter": {
   "hash": "4bd624a0593993fe43ac4046b27b898fb2ef75c21c08f81e89e64ea0f51df676"
  },
  "kernelspec": {
   "display_name": "Python 3.9.10 ('tensorflow')",
   "language": "python",
   "name": "python3"
  },
  "language_info": {
   "codemirror_mode": {
    "name": "ipython",
    "version": 3
   },
   "file_extension": ".py",
   "mimetype": "text/x-python",
   "name": "python",
   "nbconvert_exporter": "python",
   "pygments_lexer": "ipython3",
   "version": "3.9.10"
  },
  "orig_nbformat": 4
 },
 "nbformat": 4,
 "nbformat_minor": 2
}
