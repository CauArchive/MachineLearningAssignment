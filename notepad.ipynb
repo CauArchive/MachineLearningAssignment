{
 "cells": [
  {
   "cell_type": "code",
   "execution_count": 48,
   "metadata": {},
   "outputs": [
    {
     "name": "stdout",
     "output_type": "stream",
     "text": [
      "[[[1.5 1.5]\n",
      "  [1.5 1.5]]\n",
      "\n",
      " [[0.  0. ]\n",
      "  [0.  0. ]]\n",
      "\n",
      " [[1.5 1.5]\n",
      "  [1.5 1.5]]]\n"
     ]
    }
   ],
   "source": [
    "import numpy as np\n",
    "\n",
    "A = np.array([[1, 2], [4, 5], [7, 8]])\n",
    "\n",
    "normalized_A = (A - np.mean(A, axis=0)) / np.std(A, axis=0)\n",
    "\n",
    "Sigma = np.ones((3, 2, 2))\n",
    "\n",
    "for i in range(Sigma.shape[0]):\n",
    "    for j in range(Sigma.shape[1]):\n",
    "        for k in range(Sigma.shape[2]):\n",
    "            Sigma[i][j][k] = normalized_A[i][j] * normalized_A[i][k]\n",
    "\n",
    "print(Sigma)\n",
    "    "
   ]
  }
 ],
 "metadata": {
  "interpreter": {
   "hash": "4bd624a0593993fe43ac4046b27b898fb2ef75c21c08f81e89e64ea0f51df676"
  },
  "kernelspec": {
   "display_name": "Python 3.9.10 ('tensorflow')",
   "language": "python",
   "name": "python3"
  },
  "language_info": {
   "codemirror_mode": {
    "name": "ipython",
    "version": 3
   },
   "file_extension": ".py",
   "mimetype": "text/x-python",
   "name": "python",
   "nbconvert_exporter": "python",
   "pygments_lexer": "ipython3",
   "version": "3.9.10"
  },
  "orig_nbformat": 4
 },
 "nbformat": 4,
 "nbformat_minor": 2
}
