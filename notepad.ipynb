{
 "cells": [
  {
   "cell_type": "code",
   "execution_count": 6,
   "metadata": {},
   "outputs": [
    {
     "name": "stdout",
     "output_type": "stream",
     "text": [
      "[[-2.4067683  -0.06879671  0.3532862 ]\n",
      " [-0.74823156  0.5492314  -0.16692746]\n",
      " [-0.5274621  -0.31281387 -0.45246034]\n",
      " [ 1.40119076 -0.525822    0.13672384]\n",
      " [ 2.2812712   0.35820117  0.12937776]]\n"
     ]
    },
    {
     "data": {
      "text/plain": [
       "[<matplotlib.lines.Line2D at 0x140dca8e0>]"
      ]
     },
     "execution_count": 6,
     "metadata": {},
     "output_type": "execute_result"
    },
    {
     "data": {
      "image/png": "[encoded data removed]",
      "text/plain": [
       "<Figure size 432x288 with 1 Axes>"
      ]
     },
     "metadata": {
      "needs_background": "light"
     },
     "output_type": "display_data"
    }
   ],
   "source": [
    "import numpy as np\n",
    "from sklearn.datasets import load_breast_cancer\n",
    "from sklearn.preprocessing import StandardScaler\n",
    "from sklearn.decomposition import PCA\n",
    "import matplotlib.pyplot as plt\n",
    "\n",
    "def function_result_06():\n",
    "    \n",
    "    plt.figure(figsize=(8,6))\n",
    "    plt.title('loss')\n",
    "\n",
    "    plt.plot(loss_iteration, '-', color='red')\n",
    "    plt.xlabel('iteration')\n",
    "    plt.ylabel('loss')\n",
    "\n",
    "    plt.tight_layout()\n",
    "    plt.show()\n",
    "\n",
    "\n",
    "X = [[95, 95], [90, 95], [80, 75], [60, 70], [40, 35],\n",
    "                [80, 80], [95, 90], [30, 25], [15, 10], [60, 70]]\n",
    "# X = [[0.2,5.6,3.56],\n",
    "#      [0.45,5.89,2.4],\n",
    "#      [0.33,6.37,1.95],\n",
    "#      [0.54,7.9,1.32],\n",
    "#      [0.77,7.87,0.98]]\n",
    "X = np.array(X)\n",
    "\n",
    "# Normalizing X\n",
    "norm_X = X-X.mean(axis=0)\n",
    "norm_X = norm_X/X.std(axis=0)\n",
    "\n",
    "# Covariance Matrix\n",
    "cov_norm_X = np.cov(norm_X.T)\n",
    "\n",
    "# Correlation Matrix\n",
    "corr_norm_X = np.corrcoef(norm_X.T)\n",
    "\n",
    "# Eigendecomposition\n",
    "eigen_val, eigen_vec = np.linalg.eig(cov_norm_X)\n",
    "\n",
    "z1 = eigen_vec[:,0][0] * norm_X[:,0] + eigen_vec[:,0][1] * norm_X[:,1] + eigen_vec[:,0][2] * norm_X[:,2]\n",
    "z2 = eigen_vec[:,1][0] * norm_X[:,0] + eigen_vec[:,1][1] * norm_X[:,1] + eigen_vec[:,1][2] * norm_X[:,2]\n",
    "z3 = eigen_vec[:,2][0] * norm_X[:,0] + eigen_vec[:,2][1] * norm_X[:,1] + eigen_vec[:,2][2] * norm_X[:,2]\n",
    "pca_res = np.vstack([z1,z2,z3]).T\n",
    "\n",
    "print(pca_res[:,:3])\n",
    "\n",
    "plt.plot(pca_res[:,0],pca_res[:,1],'o')\n"
   ]
  }
 ],
 "metadata": {
  "interpreter": {
   "hash": "4bd624a0593993fe43ac4046b27b898fb2ef75c21c08f81e89e64ea0f51df676"
  },
  "kernelspec": {
   "display_name": "Python 3.9.10 ('tensorflow')",
   "language": "python",
   "name": "python3"
  },
  "language_info": {
   "codemirror_mode": {
    "name": "ipython",
    "version": 3
   },
   "file_extension": ".py",
   "mimetype": "text/x-python",
   "name": "python",
   "nbconvert_exporter": "python",
   "pygments_lexer": "ipython3",
   "version": "3.9.10"
  },
  "orig_nbformat": 4
 },
 "nbformat": 4,
 "nbformat_minor": 2
}
