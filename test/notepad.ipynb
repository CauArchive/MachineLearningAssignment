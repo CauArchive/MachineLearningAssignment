{
 "cells": [
  {
   "cell_type": "code",
   "execution_count": 1,
   "metadata": {},
   "outputs": [],
   "source": [
    "import matplotlib.pyplot as plt\n",
    "import numpy as np\n",
    "import pandas as pd"
   ]
  },
  {
   "cell_type": "code",
   "execution_count": 33,
   "metadata": {},
   "outputs": [
    {
     "name": "stdout",
     "output_type": "stream",
     "text": [
      "    Threads  Chunk      Static     Dynamic      Guided\n",
      "0  1.000000    0.1   25.938991   28.029263   28.419587\n",
      "1  0.500000    0.1   54.094991   54.981306   55.337281\n",
      "2  0.250000    0.1  107.874865  107.921433  108.038029\n",
      "3  0.166667    0.1   98.814229  126.055717  127.616131\n",
      "4  0.125000    0.1  107.307651  151.354624  146.886016\n",
      "5  0.100000    0.1  114.850121  117.522623  143.719460\n",
      "6  0.083333    0.1  110.766504  139.899273  147.841514\n",
      "7  0.071429    0.1  109.769484  104.144970  135.116876\n",
      "8  0.062500    0.1   98.531875  134.517084  142.694064\n"
     ]
    }
   ],
   "source": [
    "chunk_size = 100\n",
    "result = pd.read_csv('./csvs/ans' + str(chunk_size) + '.csv')\n",
    "# plt.plot(result.Threads, result.Static,label = 'Static',color='red')\n",
    "# plt.plot(result.Threads, result.Dynamic,label = 'Dynamic',color='green')\n",
    "# plt.plot(result.Threads, result.Guided,label = 'Guided',color='blue')\n",
    "# plt.title('Exec Time', fontdict={'fontsize':15,'fontweight':'bold'})\n",
    "# plt.xlabel('Threads')\n",
    "# plt.ylabel('Exec Time When Chunk Size = ' + str(chunk_size))\n",
    "# plt.xticks([1,2,4,6,8,10,12,14,16])\n",
    "# plt.legend()\n",
    "# plt.show()\n",
    "\n",
    "print(1/result)\n",
    "\n",
    "# plt.plot(result.Threads, 1/result.Static,label = 'Static',color='red')\n",
    "# plt.plot(result.Threads, 1/result.Dynamic,label = 'Dynamic',color='green')\n",
    "# plt.plot(result.Threads, 1/result.Guided,label = 'Guided',color='blue')\n",
    "# plt.title('Performance', fontdict={'fontsize':15,'fontweight':'bold'})\n",
    "# plt.xlabel('Threads')\n",
    "# plt.ylabel('Performance When Chunk Size = ' + str(chunk_size))\n",
    "# plt.xticks([1,2,4,6,8,10,12,14,16])\n",
    "# plt.legend()\n",
    "# plt.show()"
   ]
  }
 ],
 "metadata": {
  "interpreter": {
   "hash": "4bd624a0593993fe43ac4046b27b898fb2ef75c21c08f81e89e64ea0f51df676"
  },
  "kernelspec": {
   "display_name": "Python 3.9.10 ('tensorflow')",
   "language": "python",
   "name": "python3"
  },
  "language_info": {
   "codemirror_mode": {
    "name": "ipython",
    "version": 3
   },
   "file_extension": ".py",
   "mimetype": "text/x-python",
   "name": "python",
   "nbconvert_exporter": "python",
   "pygments_lexer": "ipython3",
   "version": "3.9.10"
  },
  "orig_nbformat": 4
 },
 "nbformat": 4,
 "nbformat_minor": 2
}
